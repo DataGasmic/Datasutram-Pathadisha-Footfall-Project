{
 "cells": [
  {
   "cell_type": "code",
   "execution_count": 1,
   "metadata": {},
   "outputs": [],
   "source": [
    "import pandas as pd\n",
    "import matplotlib.pyplot as plt\n",
    "%matplotlib inline\n",
    "import numpy  as np\n",
    "import time\n",
    "import datetime"
   ]
  },
  {
   "cell_type": "code",
   "execution_count": 2,
   "metadata": {},
   "outputs": [],
   "source": [
    "df = pd.read_csv(\"Data.csv\")"
   ]
  },
  {
   "cell_type": "code",
   "execution_count": 3,
   "metadata": {},
   "outputs": [
    {
     "data": {
      "text/html": [
       "<div>\n",
       "<style scoped>\n",
       "    .dataframe tbody tr th:only-of-type {\n",
       "        vertical-align: middle;\n",
       "    }\n",
       "\n",
       "    .dataframe tbody tr th {\n",
       "        vertical-align: top;\n",
       "    }\n",
       "\n",
       "    .dataframe thead th {\n",
       "        text-align: right;\n",
       "    }\n",
       "</style>\n",
       "<table border=\"1\" class=\"dataframe\">\n",
       "  <thead>\n",
       "    <tr style=\"text-align: right;\">\n",
       "      <th></th>\n",
       "      <th>id</th>\n",
       "      <th>dataSource</th>\n",
       "      <th>vehicleNo</th>\n",
       "      <th>routeCode</th>\n",
       "      <th>Started</th>\n",
       "      <th>OutofPath</th>\n",
       "      <th>Latitude</th>\n",
       "      <th>Longitude</th>\n",
       "      <th>eventLocation</th>\n",
       "      <th>lasttime</th>\n",
       "      <th>...</th>\n",
       "      <th>vehicleid</th>\n",
       "      <th>vehcileregno</th>\n",
       "      <th>type</th>\n",
       "      <th>Visible</th>\n",
       "      <th>Valid</th>\n",
       "      <th>RegnoAlias</th>\n",
       "      <th>agencyName</th>\n",
       "      <th>date</th>\n",
       "      <th>time</th>\n",
       "      <th>geometry</th>\n",
       "    </tr>\n",
       "  </thead>\n",
       "  <tbody>\n",
       "    <tr>\n",
       "      <th>0</th>\n",
       "      <td>5c463f34e03d097766ad0d3b</td>\n",
       "      <td>Chalo-VTU</td>\n",
       "      <td>WB19E3589</td>\n",
       "      <td>218:DN</td>\n",
       "      <td>TRUE</td>\n",
       "      <td>False</td>\n",
       "      <td>22.342026</td>\n",
       "      <td>88459122.0</td>\n",
       "      <td>NaN</td>\n",
       "      <td>1.550000e+12</td>\n",
       "      <td>...</td>\n",
       "      <td>78341</td>\n",
       "      <td>WB19E3589</td>\n",
       "      <td>BUS</td>\n",
       "      <td>Y</td>\n",
       "      <td>Y</td>\n",
       "      <td>Chalo-VTU</td>\n",
       "      <td>Kolkata Traffic Police</td>\n",
       "      <td>1/21/2019</td>\n",
       "      <td>21:52:52.890Z</td>\n",
       "      <td>POINT (22.342026 88459122)</td>\n",
       "    </tr>\n",
       "    <tr>\n",
       "      <th>1</th>\n",
       "      <td>5c463f38e03d097766ad1538</td>\n",
       "      <td>Chalo-VTU</td>\n",
       "      <td>WB19E3589</td>\n",
       "      <td>218:DN</td>\n",
       "      <td>TRUE</td>\n",
       "      <td>False</td>\n",
       "      <td>22.342026</td>\n",
       "      <td>88459122.0</td>\n",
       "      <td>NaN</td>\n",
       "      <td>1.550000e+12</td>\n",
       "      <td>...</td>\n",
       "      <td>78341</td>\n",
       "      <td>WB19E3589</td>\n",
       "      <td>BUS</td>\n",
       "      <td>Y</td>\n",
       "      <td>Y</td>\n",
       "      <td>Chalo-VTU</td>\n",
       "      <td>Kolkata Traffic Police</td>\n",
       "      <td>1/21/2019</td>\n",
       "      <td>21:52:56.246Z</td>\n",
       "      <td>POINT (22.342026 88459122)</td>\n",
       "    </tr>\n",
       "    <tr>\n",
       "      <th>2</th>\n",
       "      <td>5c463f3be03d097766ad1d35</td>\n",
       "      <td>Chalo-VTU</td>\n",
       "      <td>WB19E3589</td>\n",
       "      <td>218:DN</td>\n",
       "      <td>TRUE</td>\n",
       "      <td>False</td>\n",
       "      <td>22.342026</td>\n",
       "      <td>88459122.0</td>\n",
       "      <td>NaN</td>\n",
       "      <td>1.550000e+12</td>\n",
       "      <td>...</td>\n",
       "      <td>78341</td>\n",
       "      <td>WB19E3589</td>\n",
       "      <td>BUS</td>\n",
       "      <td>Y</td>\n",
       "      <td>Y</td>\n",
       "      <td>Chalo-VTU</td>\n",
       "      <td>Kolkata Traffic Police</td>\n",
       "      <td>1/21/2019</td>\n",
       "      <td>21:52:59.588Z</td>\n",
       "      <td>POINT (22.342026 88459122)</td>\n",
       "    </tr>\n",
       "    <tr>\n",
       "      <th>3</th>\n",
       "      <td>5c463f3ee03d097766ad2532</td>\n",
       "      <td>Chalo-VTU</td>\n",
       "      <td>WB19E3589</td>\n",
       "      <td>218:DN</td>\n",
       "      <td>TRUE</td>\n",
       "      <td>False</td>\n",
       "      <td>22.342052</td>\n",
       "      <td>88459137.0</td>\n",
       "      <td>NaN</td>\n",
       "      <td>1.550000e+12</td>\n",
       "      <td>...</td>\n",
       "      <td>78341</td>\n",
       "      <td>WB19E3589</td>\n",
       "      <td>BUS</td>\n",
       "      <td>Y</td>\n",
       "      <td>Y</td>\n",
       "      <td>Chalo-VTU</td>\n",
       "      <td>Kolkata Traffic Police</td>\n",
       "      <td>1/21/2019</td>\n",
       "      <td>21:53:02.938Z</td>\n",
       "      <td>POINT (22.342052 88459137)</td>\n",
       "    </tr>\n",
       "    <tr>\n",
       "      <th>4</th>\n",
       "      <td>5c463f42e03d097766ad2d2f</td>\n",
       "      <td>Chalo-VTU</td>\n",
       "      <td>WB19E3589</td>\n",
       "      <td>218:DN</td>\n",
       "      <td>TRUE</td>\n",
       "      <td>False</td>\n",
       "      <td>22.342052</td>\n",
       "      <td>88459137.0</td>\n",
       "      <td>NaN</td>\n",
       "      <td>1.550000e+12</td>\n",
       "      <td>...</td>\n",
       "      <td>78341</td>\n",
       "      <td>WB19E3589</td>\n",
       "      <td>BUS</td>\n",
       "      <td>Y</td>\n",
       "      <td>Y</td>\n",
       "      <td>Chalo-VTU</td>\n",
       "      <td>Kolkata Traffic Police</td>\n",
       "      <td>1/21/2019</td>\n",
       "      <td>21:53:06.300Z</td>\n",
       "      <td>POINT (22.342052 88459137)</td>\n",
       "    </tr>\n",
       "  </tbody>\n",
       "</table>\n",
       "<p>5 rows × 30 columns</p>\n",
       "</div>"
      ],
      "text/plain": [
       "                         id dataSource  vehicleNo routeCode Started  \\\n",
       "0  5c463f34e03d097766ad0d3b  Chalo-VTU  WB19E3589    218:DN    TRUE   \n",
       "1  5c463f38e03d097766ad1538  Chalo-VTU  WB19E3589    218:DN    TRUE   \n",
       "2  5c463f3be03d097766ad1d35  Chalo-VTU  WB19E3589    218:DN    TRUE   \n",
       "3  5c463f3ee03d097766ad2532  Chalo-VTU  WB19E3589    218:DN    TRUE   \n",
       "4  5c463f42e03d097766ad2d2f  Chalo-VTU  WB19E3589    218:DN    TRUE   \n",
       "\n",
       "   OutofPath   Latitude   Longitude  eventLocation      lasttime  \\\n",
       "0      False  22.342026  88459122.0            NaN  1.550000e+12   \n",
       "1      False  22.342026  88459122.0            NaN  1.550000e+12   \n",
       "2      False  22.342026  88459122.0            NaN  1.550000e+12   \n",
       "3      False  22.342052  88459137.0            NaN  1.550000e+12   \n",
       "4      False  22.342052  88459137.0            NaN  1.550000e+12   \n",
       "\n",
       "              ...              vehicleid  vehcileregno  type Visible  Valid  \\\n",
       "0             ...                  78341     WB19E3589   BUS       Y      Y   \n",
       "1             ...                  78341     WB19E3589   BUS       Y      Y   \n",
       "2             ...                  78341     WB19E3589   BUS       Y      Y   \n",
       "3             ...                  78341     WB19E3589   BUS       Y      Y   \n",
       "4             ...                  78341     WB19E3589   BUS       Y      Y   \n",
       "\n",
       "   RegnoAlias              agencyName       date           time  \\\n",
       "0   Chalo-VTU  Kolkata Traffic Police  1/21/2019  21:52:52.890Z   \n",
       "1   Chalo-VTU  Kolkata Traffic Police  1/21/2019  21:52:56.246Z   \n",
       "2   Chalo-VTU  Kolkata Traffic Police  1/21/2019  21:52:59.588Z   \n",
       "3   Chalo-VTU  Kolkata Traffic Police  1/21/2019  21:53:02.938Z   \n",
       "4   Chalo-VTU  Kolkata Traffic Police  1/21/2019  21:53:06.300Z   \n",
       "\n",
       "                     geometry  \n",
       "0  POINT (22.342026 88459122)  \n",
       "1  POINT (22.342026 88459122)  \n",
       "2  POINT (22.342026 88459122)  \n",
       "3  POINT (22.342052 88459137)  \n",
       "4  POINT (22.342052 88459137)  \n",
       "\n",
       "[5 rows x 30 columns]"
      ]
     },
     "execution_count": 3,
     "metadata": {},
     "output_type": "execute_result"
    }
   ],
   "source": [
    "df.head()"
   ]
  },
  {
   "cell_type": "code",
   "execution_count": 4,
   "metadata": {},
   "outputs": [
    {
     "data": {
      "text/plain": [
       "[<matplotlib.lines.Line2D at 0x7f5589890668>]"
      ]
     },
     "execution_count": 4,
     "metadata": {},
     "output_type": "execute_result"
    },
    {
     "data": {
      "image/png": "[encoded data removed]",
      "text/plain": [
       "<Figure size 432x288 with 1 Axes>"
      ]
     },
     "metadata": {
      "needs_background": "light"
     },
     "output_type": "display_data"
    }
   ],
   "source": [
    "plt.plot(df['date'])"
   ]
  },
  {
   "cell_type": "code",
   "execution_count": 5,
   "metadata": {},
   "outputs": [
    {
     "name": "stdout",
     "output_type": "stream",
     "text": [
      "1/27/2019    13247\n",
      "1/22/2019    12083\n",
      "1/26/2019     9265\n",
      "1/23/2019     6796\n",
      "1/25/2019     4312\n",
      "1/24/2019     2974\n",
      "1/21/2019     1159\n",
      "Name: date, dtype: int64\n"
     ]
    },
    {
     "data": {
      "image/png": "[encoded data removed]",
      "text/plain": [
       "<Figure size 432x288 with 1 Axes>"
      ]
     },
     "metadata": {
      "needs_background": "light"
     },
     "output_type": "display_data"
    }
   ],
   "source": [
    "plt.plot(df['date'].value_counts())\n",
    "print(df['date'].value_counts())"
   ]
  },
  {
   "cell_type": "code",
   "execution_count": 6,
   "metadata": {},
   "outputs": [
    {
     "name": "stdout",
     "output_type": "stream",
     "text": [
      "1/21/2019\n"
     ]
    }
   ],
   "source": [
    "x=df.loc[0,'date']\n",
    "print(x)"
   ]
  },
  {
   "cell_type": "code",
   "execution_count": 7,
   "metadata": {},
   "outputs": [
    {
     "name": "stdout",
     "output_type": "stream",
     "text": [
      "Monday\n"
     ]
    }
   ],
   "source": [
    "print(time.strftime(\"%A\", time.strptime(x, \"%m/%d/%Y\")))"
   ]
  },
  {
   "cell_type": "code",
   "execution_count": 8,
   "metadata": {},
   "outputs": [],
   "source": [
    "for i,row in df.iterrows():\n",
    "    df.loc[i,'Day'] = time.strftime(\"%A\", time.strptime(row.date, \"%m/%d/%Y\")) "
   ]
  },
  {
   "cell_type": "code",
   "execution_count": 9,
   "metadata": {},
   "outputs": [
    {
     "data": {
      "text/plain": [
       "Sunday       13247\n",
       "Tuesday      12083\n",
       "Saturday      9265\n",
       "Wednesday     6796\n",
       "Friday        4312\n",
       "Thursday      2974\n",
       "Monday        1159\n",
       "Name: Day, dtype: int64"
      ]
     },
     "execution_count": 9,
     "metadata": {},
     "output_type": "execute_result"
    }
   ],
   "source": [
    "df['Day'].value_counts()"
   ]
  },
  {
   "cell_type": "code",
   "execution_count": 10,
   "metadata": {},
   "outputs": [
    {
     "data": {
      "text/plain": [
       "31"
      ]
     },
     "execution_count": 10,
     "metadata": {},
     "output_type": "execute_result"
    }
   ],
   "source": [
    "len(df.columns)"
   ]
  },
  {
   "cell_type": "code",
   "execution_count": 11,
   "metadata": {},
   "outputs": [],
   "source": [
    "#df['dataSource'].unique() # Remove\n",
    "#df['vehicleNo'].unique() #Obviously remove\n",
    "#df['speed'].unique()  # Checking out the columns to remove"
   ]
  },
  {
   "cell_type": "code",
   "execution_count": 12,
   "metadata": {},
   "outputs": [
    {
     "name": "stdout",
     "output_type": "stream",
     "text": [
      "['5c463f34e03d097766ad0d3b' '5c463f38e03d097766ad1538'\n",
      " '5c463f3be03d097766ad1d35' ... '5c4e24a4e03d0972554d0d85'\n",
      " '5c4e24aae03d0972554d156c' '5c4e24b0e03d0972554d1d52']\n",
      "['Chalo-VTU']\n",
      "['WB19E3589']\n",
      "['218:DN' '218:UP']\n",
      "['TRUE' 'fals']\n",
      "[False  True]\n",
      "[22.342026 22.342052 22.342064 ... 22.355539 22.355305 22.355289]\n",
      "[88459122. 88459137. 88459206. ...  8843483. 88435448. 88435425.]\n",
      "[nan]\n",
      "[1.55e+12]\n",
      "[0]\n",
      "[0]\n",
      "[ 0 17 27  6 11 30 38 41 44 46 37  9 20 19  8  5 28 23 16  7 15 18 14 13\n",
      " 12 10 22 31 25 35 26 42 48 34 40 21 29 32 33 24 43 50 52 39 53 47 36 49\n",
      " 45 58 54 55 59 56 57 51 60 67 66 64 63 65 62 70 72 73 68 71 75 76 69 77\n",
      " 80 82 78 74 79 61 81 84]\n",
      "['N' 'NE' 'E' 'SW' 'W' 'SE' 'NW' 'S' 'ull']\n",
      "[106 113 126 121 119 125 122 109 107  98 108 176 160 171 194  34 200 215\n",
      " 209 211 213 214 236 312 297 303 304 302 311 259 205 206 218 234 180 279\n",
      " 316 306 307 287 283 261 252 320 334 326 327 322 317 321   0 308 318 140\n",
      " 130  61 286 210  45 350 305 158 192 238 136 208 190  39 163  79 277  11\n",
      "  54   5 187 267  32 231 219 152 344  52 314 151 293  74 263  66  93 273\n",
      " 295  82  81 245 241  15 188 116 264  30  96 128 112 265 244  57 105  64\n",
      " 289 207 290  20 101  80 169 291  28 133  68 237  48 280 324 328 300 167\n",
      " 345 347 348  16 173 202 153 114 242  84  75 118 115 110  97  95 103 104\n",
      " 141 132 137 285 282 274 275 292 296 299 246 161 138 145 143 146  88  91\n",
      " 117 142 149 148 134 154 170 172 168 351 352 329 323 276 310 255 272 102\n",
      "  94 139 111 123 240 127 135 147 343 333 319 220 226  18  47 201 217 309\n",
      "  12  37 313  99 224 254 191  27 120 131  78  25  24 165 281 251  72 174\n",
      " 189 342  40 353  10 337 129 185 278 298 331 330 260   9  41 156  77  44\n",
      " 325 258 159 235 144 175 358 315 332 243 284 335 339 356 340 341   3 100\n",
      "  85  69  62  60  92  83 198  33  86 301 288 294  90 157 183 357 354 338\n",
      " 336  89 178 164 155  55 268 186 222 232  21   6  59 247 166  51 216  70\n",
      "  35  67 253 225 233  43 204  31 228  71  38  50 150  65  22 223 349 270\n",
      "  14 124 346 359   2   4 239 249 355 197 181 177 230 269   7 257 262 193\n",
      " 196 195 250 271 256 212  13  19  73   8  17  87  56  42   1  46  76  53\n",
      "  63  23  29  26  58 162  36 227  49 184 199 182 179 203 248 221 229]\n",
      "[nan]\n",
      "[False]\n",
      "['BUS']\n",
      "['tags:[]']\n",
      "['FALSE' 'true\"']\n",
      "[78341]\n",
      "['WB19E3589']\n",
      "['BUS']\n",
      "['Y']\n",
      "['Y']\n",
      "['Chalo-VTU']\n",
      "['Kolkata Traffic Police']\n",
      "['1/21/2019' '1/22/2019' '1/23/2019' '1/24/2019' '1/25/2019' '1/26/2019'\n",
      " '1/27/2019']\n",
      "['21:52:52.890Z' '21:52:56.246Z' '21:52:59.588Z' ... '21:37:40.289Z'\n",
      " '21:37:46.417Z' '21:37:52.550Z']\n",
      "['POINT (22.342026 88459122)' 'POINT (22.342052 88459137)'\n",
      " 'POINT (22.342064 88459206)' ... 'POINT (22.355473 88435341)'\n",
      " 'POINT (22.355343 8843515)' 'POINT (22.355442 88435249)']\n",
      "['Monday' 'Tuesday' 'Wednesday' 'Thursday' 'Friday' 'Saturday' 'Sunday']\n"
     ]
    }
   ],
   "source": [
    "for x in list(df.columns):\n",
    "    print(df[x].unique())"
   ]
  },
  {
   "cell_type": "code",
   "execution_count": 13,
   "metadata": {},
   "outputs": [
    {
     "name": "stdout",
     "output_type": "stream",
     "text": [
      "id : 49836 \n",
      "dataSource : 1 \n",
      "vehicleNo : 1 \n",
      "routeCode : 2 \n",
      "Started : 2 \n",
      "OutofPath : 2 \n",
      "Latitude : 3820 \n",
      "Longitude : 3185 \n",
      "eventLocation : 1 \n",
      "lasttime : 1 \n",
      "timetostop : 1 \n",
      "disttostop : 1 \n",
      "speed : 80 \n",
      "direction : 9 \n",
      "angle : 359 \n",
      "crowd : 1 \n",
      "stopped : 1 \n",
      "vehicleType : 1 \n",
      "tag : 1 \n",
      "violatespath : 2 \n",
      "vehicleid : 1 \n",
      "vehcileregno : 1 \n",
      "type : 1 \n",
      "Visible : 1 \n",
      "Valid : 1 \n",
      "RegnoAlias : 1 \n",
      "agencyName : 1 \n",
      "date : 7 \n",
      "time : 49826 \n",
      "geometry : 4914 \n",
      "Day : 7 \n"
     ]
    }
   ],
   "source": [
    "for i in df.columns:\n",
    "    print(\"{} : {} \".format(i,len(df[i].unique())))"
   ]
  },
  {
   "cell_type": "code",
   "execution_count": 14,
   "metadata": {},
   "outputs": [],
   "source": [
    "eliminate_cols = [x for x in list(df.columns) if len(df[x].unique())==1]"
   ]
  },
  {
   "cell_type": "code",
   "execution_count": 15,
   "metadata": {},
   "outputs": [
    {
     "data": {
      "text/plain": [
       "['dataSource',\n",
       " 'vehicleNo',\n",
       " 'eventLocation',\n",
       " 'lasttime',\n",
       " 'timetostop',\n",
       " 'disttostop',\n",
       " 'crowd',\n",
       " 'stopped',\n",
       " 'vehicleType',\n",
       " 'tag',\n",
       " 'vehicleid',\n",
       " 'vehcileregno',\n",
       " 'type',\n",
       " 'Visible',\n",
       " 'Valid',\n",
       " 'RegnoAlias',\n",
       " 'agencyName']"
      ]
     },
     "execution_count": 15,
     "metadata": {},
     "output_type": "execute_result"
    }
   ],
   "source": [
    "eliminate_cols"
   ]
  },
  {
   "cell_type": "code",
   "execution_count": 52,
   "metadata": {},
   "outputs": [
    {
     "data": {
      "text/plain": [
       "31"
      ]
     },
     "execution_count": 52,
     "metadata": {},
     "output_type": "execute_result"
    }
   ],
   "source": [
    "len(df.columns)"
   ]
  },
  {
   "cell_type": "code",
   "execution_count": 17,
   "metadata": {},
   "outputs": [],
   "source": [
    "df = df.drop(labels=\"geometry\",axis=1)"
   ]
  },
  {
   "cell_type": "code",
   "execution_count": 18,
   "metadata": {},
   "outputs": [],
   "source": [
    "df['Longitude'] = df['Longitude']*pow(10,-6)"
   ]
  },
  {
   "cell_type": "code",
   "execution_count": 19,
   "metadata": {},
   "outputs": [],
   "source": [
    "df = df.drop(labels = eliminate_cols,axis=1) # Finally left with 14 columns"
   ]
  },
  {
   "cell_type": "code",
   "execution_count": 20,
   "metadata": {},
   "outputs": [
    {
     "data": {
      "text/plain": [
       "13"
      ]
     },
     "execution_count": 20,
     "metadata": {},
     "output_type": "execute_result"
    }
   ],
   "source": [
    "len(df.columns)"
   ]
  },
  {
   "cell_type": "code",
   "execution_count": 21,
   "metadata": {},
   "outputs": [
    {
     "data": {
      "text/html": [
       "<div>\n",
       "<style scoped>\n",
       "    .dataframe tbody tr th:only-of-type {\n",
       "        vertical-align: middle;\n",
       "    }\n",
       "\n",
       "    .dataframe tbody tr th {\n",
       "        vertical-align: top;\n",
       "    }\n",
       "\n",
       "    .dataframe thead th {\n",
       "        text-align: right;\n",
       "    }\n",
       "</style>\n",
       "<table border=\"1\" class=\"dataframe\">\n",
       "  <thead>\n",
       "    <tr style=\"text-align: right;\">\n",
       "      <th></th>\n",
       "      <th>id</th>\n",
       "      <th>routeCode</th>\n",
       "      <th>Started</th>\n",
       "      <th>OutofPath</th>\n",
       "      <th>Latitude</th>\n",
       "      <th>Longitude</th>\n",
       "      <th>speed</th>\n",
       "      <th>direction</th>\n",
       "      <th>angle</th>\n",
       "      <th>violatespath</th>\n",
       "      <th>date</th>\n",
       "      <th>time</th>\n",
       "      <th>Day</th>\n",
       "    </tr>\n",
       "  </thead>\n",
       "  <tbody>\n",
       "    <tr>\n",
       "      <th>0</th>\n",
       "      <td>5c463f34e03d097766ad0d3b</td>\n",
       "      <td>218:DN</td>\n",
       "      <td>TRUE</td>\n",
       "      <td>False</td>\n",
       "      <td>22.342026</td>\n",
       "      <td>88.459122</td>\n",
       "      <td>0</td>\n",
       "      <td>N</td>\n",
       "      <td>106</td>\n",
       "      <td>FALSE</td>\n",
       "      <td>1/21/2019</td>\n",
       "      <td>21:52:52.890Z</td>\n",
       "      <td>Monday</td>\n",
       "    </tr>\n",
       "    <tr>\n",
       "      <th>1</th>\n",
       "      <td>5c463f38e03d097766ad1538</td>\n",
       "      <td>218:DN</td>\n",
       "      <td>TRUE</td>\n",
       "      <td>False</td>\n",
       "      <td>22.342026</td>\n",
       "      <td>88.459122</td>\n",
       "      <td>0</td>\n",
       "      <td>N</td>\n",
       "      <td>106</td>\n",
       "      <td>FALSE</td>\n",
       "      <td>1/21/2019</td>\n",
       "      <td>21:52:56.246Z</td>\n",
       "      <td>Monday</td>\n",
       "    </tr>\n",
       "    <tr>\n",
       "      <th>2</th>\n",
       "      <td>5c463f3be03d097766ad1d35</td>\n",
       "      <td>218:DN</td>\n",
       "      <td>TRUE</td>\n",
       "      <td>False</td>\n",
       "      <td>22.342026</td>\n",
       "      <td>88.459122</td>\n",
       "      <td>0</td>\n",
       "      <td>N</td>\n",
       "      <td>106</td>\n",
       "      <td>FALSE</td>\n",
       "      <td>1/21/2019</td>\n",
       "      <td>21:52:59.588Z</td>\n",
       "      <td>Monday</td>\n",
       "    </tr>\n",
       "    <tr>\n",
       "      <th>3</th>\n",
       "      <td>5c463f3ee03d097766ad2532</td>\n",
       "      <td>218:DN</td>\n",
       "      <td>TRUE</td>\n",
       "      <td>False</td>\n",
       "      <td>22.342052</td>\n",
       "      <td>88.459137</td>\n",
       "      <td>0</td>\n",
       "      <td>NE</td>\n",
       "      <td>106</td>\n",
       "      <td>FALSE</td>\n",
       "      <td>1/21/2019</td>\n",
       "      <td>21:53:02.938Z</td>\n",
       "      <td>Monday</td>\n",
       "    </tr>\n",
       "    <tr>\n",
       "      <th>4</th>\n",
       "      <td>5c463f42e03d097766ad2d2f</td>\n",
       "      <td>218:DN</td>\n",
       "      <td>TRUE</td>\n",
       "      <td>False</td>\n",
       "      <td>22.342052</td>\n",
       "      <td>88.459137</td>\n",
       "      <td>0</td>\n",
       "      <td>NE</td>\n",
       "      <td>106</td>\n",
       "      <td>FALSE</td>\n",
       "      <td>1/21/2019</td>\n",
       "      <td>21:53:06.300Z</td>\n",
       "      <td>Monday</td>\n",
       "    </tr>\n",
       "  </tbody>\n",
       "</table>\n",
       "</div>"
      ],
      "text/plain": [
       "                         id routeCode Started  OutofPath   Latitude  \\\n",
       "0  5c463f34e03d097766ad0d3b    218:DN    TRUE      False  22.342026   \n",
       "1  5c463f38e03d097766ad1538    218:DN    TRUE      False  22.342026   \n",
       "2  5c463f3be03d097766ad1d35    218:DN    TRUE      False  22.342026   \n",
       "3  5c463f3ee03d097766ad2532    218:DN    TRUE      False  22.342052   \n",
       "4  5c463f42e03d097766ad2d2f    218:DN    TRUE      False  22.342052   \n",
       "\n",
       "   Longitude  speed direction  angle violatespath       date           time  \\\n",
       "0  88.459122      0         N    106        FALSE  1/21/2019  21:52:52.890Z   \n",
       "1  88.459122      0         N    106        FALSE  1/21/2019  21:52:56.246Z   \n",
       "2  88.459122      0         N    106        FALSE  1/21/2019  21:52:59.588Z   \n",
       "3  88.459137      0        NE    106        FALSE  1/21/2019  21:53:02.938Z   \n",
       "4  88.459137      0        NE    106        FALSE  1/21/2019  21:53:06.300Z   \n",
       "\n",
       "      Day  \n",
       "0  Monday  \n",
       "1  Monday  \n",
       "2  Monday  \n",
       "3  Monday  \n",
       "4  Monday  "
      ]
     },
     "execution_count": 21,
     "metadata": {},
     "output_type": "execute_result"
    }
   ],
   "source": [
    "#df = df.drop(labels = (\"geometry\"),axis =1)\n",
    "df.head()"
   ]
  },
  {
   "cell_type": "code",
   "execution_count": 22,
   "metadata": {},
   "outputs": [],
   "source": [
    "import graphics\n",
    "from shapely.geometry import Point,Polygon\n",
    "df['Coordinates'] = list(zip(df.Longitude, df.Latitude))\n",
    "df['Coordinates'] = df['Coordinates'].apply(Point)\n",
    "            "
   ]
  },
  {
   "cell_type": "code",
   "execution_count": 23,
   "metadata": {},
   "outputs": [
    {
     "data": {
      "text/html": [
       "<div>\n",
       "<style scoped>\n",
       "    .dataframe tbody tr th:only-of-type {\n",
       "        vertical-align: middle;\n",
       "    }\n",
       "\n",
       "    .dataframe tbody tr th {\n",
       "        vertical-align: top;\n",
       "    }\n",
       "\n",
       "    .dataframe thead th {\n",
       "        text-align: right;\n",
       "    }\n",
       "</style>\n",
       "<table border=\"1\" class=\"dataframe\">\n",
       "  <thead>\n",
       "    <tr style=\"text-align: right;\">\n",
       "      <th></th>\n",
       "      <th>id</th>\n",
       "      <th>routeCode</th>\n",
       "      <th>Started</th>\n",
       "      <th>OutofPath</th>\n",
       "      <th>Latitude</th>\n",
       "      <th>Longitude</th>\n",
       "      <th>speed</th>\n",
       "      <th>direction</th>\n",
       "      <th>angle</th>\n",
       "      <th>violatespath</th>\n",
       "      <th>date</th>\n",
       "      <th>time</th>\n",
       "      <th>Day</th>\n",
       "      <th>Coordinates</th>\n",
       "    </tr>\n",
       "  </thead>\n",
       "  <tbody>\n",
       "    <tr>\n",
       "      <th>0</th>\n",
       "      <td>5c463f34e03d097766ad0d3b</td>\n",
       "      <td>218:DN</td>\n",
       "      <td>TRUE</td>\n",
       "      <td>False</td>\n",
       "      <td>22.342026</td>\n",
       "      <td>88.459122</td>\n",
       "      <td>0</td>\n",
       "      <td>N</td>\n",
       "      <td>106</td>\n",
       "      <td>FALSE</td>\n",
       "      <td>1/21/2019</td>\n",
       "      <td>21:52:52.890Z</td>\n",
       "      <td>Monday</td>\n",
       "      <td>POINT (88.45912199999999 22.342026)</td>\n",
       "    </tr>\n",
       "    <tr>\n",
       "      <th>1</th>\n",
       "      <td>5c463f38e03d097766ad1538</td>\n",
       "      <td>218:DN</td>\n",
       "      <td>TRUE</td>\n",
       "      <td>False</td>\n",
       "      <td>22.342026</td>\n",
       "      <td>88.459122</td>\n",
       "      <td>0</td>\n",
       "      <td>N</td>\n",
       "      <td>106</td>\n",
       "      <td>FALSE</td>\n",
       "      <td>1/21/2019</td>\n",
       "      <td>21:52:56.246Z</td>\n",
       "      <td>Monday</td>\n",
       "      <td>POINT (88.45912199999999 22.342026)</td>\n",
       "    </tr>\n",
       "    <tr>\n",
       "      <th>2</th>\n",
       "      <td>5c463f3be03d097766ad1d35</td>\n",
       "      <td>218:DN</td>\n",
       "      <td>TRUE</td>\n",
       "      <td>False</td>\n",
       "      <td>22.342026</td>\n",
       "      <td>88.459122</td>\n",
       "      <td>0</td>\n",
       "      <td>N</td>\n",
       "      <td>106</td>\n",
       "      <td>FALSE</td>\n",
       "      <td>1/21/2019</td>\n",
       "      <td>21:52:59.588Z</td>\n",
       "      <td>Monday</td>\n",
       "      <td>POINT (88.45912199999999 22.342026)</td>\n",
       "    </tr>\n",
       "    <tr>\n",
       "      <th>3</th>\n",
       "      <td>5c463f3ee03d097766ad2532</td>\n",
       "      <td>218:DN</td>\n",
       "      <td>TRUE</td>\n",
       "      <td>False</td>\n",
       "      <td>22.342052</td>\n",
       "      <td>88.459137</td>\n",
       "      <td>0</td>\n",
       "      <td>NE</td>\n",
       "      <td>106</td>\n",
       "      <td>FALSE</td>\n",
       "      <td>1/21/2019</td>\n",
       "      <td>21:53:02.938Z</td>\n",
       "      <td>Monday</td>\n",
       "      <td>POINT (88.459137 22.342052)</td>\n",
       "    </tr>\n",
       "    <tr>\n",
       "      <th>4</th>\n",
       "      <td>5c463f42e03d097766ad2d2f</td>\n",
       "      <td>218:DN</td>\n",
       "      <td>TRUE</td>\n",
       "      <td>False</td>\n",
       "      <td>22.342052</td>\n",
       "      <td>88.459137</td>\n",
       "      <td>0</td>\n",
       "      <td>NE</td>\n",
       "      <td>106</td>\n",
       "      <td>FALSE</td>\n",
       "      <td>1/21/2019</td>\n",
       "      <td>21:53:06.300Z</td>\n",
       "      <td>Monday</td>\n",
       "      <td>POINT (88.459137 22.342052)</td>\n",
       "    </tr>\n",
       "  </tbody>\n",
       "</table>\n",
       "</div>"
      ],
      "text/plain": [
       "                         id routeCode Started  OutofPath   Latitude  \\\n",
       "0  5c463f34e03d097766ad0d3b    218:DN    TRUE      False  22.342026   \n",
       "1  5c463f38e03d097766ad1538    218:DN    TRUE      False  22.342026   \n",
       "2  5c463f3be03d097766ad1d35    218:DN    TRUE      False  22.342026   \n",
       "3  5c463f3ee03d097766ad2532    218:DN    TRUE      False  22.342052   \n",
       "4  5c463f42e03d097766ad2d2f    218:DN    TRUE      False  22.342052   \n",
       "\n",
       "   Longitude  speed direction  angle violatespath       date           time  \\\n",
       "0  88.459122      0         N    106        FALSE  1/21/2019  21:52:52.890Z   \n",
       "1  88.459122      0         N    106        FALSE  1/21/2019  21:52:56.246Z   \n",
       "2  88.459122      0         N    106        FALSE  1/21/2019  21:52:59.588Z   \n",
       "3  88.459137      0        NE    106        FALSE  1/21/2019  21:53:02.938Z   \n",
       "4  88.459137      0        NE    106        FALSE  1/21/2019  21:53:06.300Z   \n",
       "\n",
       "      Day                          Coordinates  \n",
       "0  Monday  POINT (88.45912199999999 22.342026)  \n",
       "1  Monday  POINT (88.45912199999999 22.342026)  \n",
       "2  Monday  POINT (88.45912199999999 22.342026)  \n",
       "3  Monday          POINT (88.459137 22.342052)  \n",
       "4  Monday          POINT (88.459137 22.342052)  "
      ]
     },
     "execution_count": 23,
     "metadata": {},
     "output_type": "execute_result"
    }
   ],
   "source": [
    "df.head()"
   ]
  },
  {
   "cell_type": "code",
   "execution_count": null,
   "metadata": {},
   "outputs": [],
   "source": [
    "df"
   ]
  },
  {
   "cell_type": "code",
   "execution_count": null,
   "metadata": {},
   "outputs": [],
   "source": []
  },
  {
   "cell_type": "code",
   "execution_count": null,
   "metadata": {},
   "outputs": [],
   "source": []
  }
 ],
 "metadata": {
  "kernelspec": {
   "display_name": "Python 3",
   "language": "python",
   "name": "python3"
  },
  "language_info": {
   "codemirror_mode": {
    "name": "ipython",
    "version": 3
   },
   "file_extension": ".py",
   "mimetype": "text/x-python",
   "name": "python",
   "nbconvert_exporter": "python",
   "pygments_lexer": "ipython3",
   "version": "3.6.6"
  }
 },
 "nbformat": 4,
 "nbformat_minor": 2
}
